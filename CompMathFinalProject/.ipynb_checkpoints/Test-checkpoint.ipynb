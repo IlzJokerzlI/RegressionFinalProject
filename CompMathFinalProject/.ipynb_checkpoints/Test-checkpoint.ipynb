{
 "cells": [
  {
   "cell_type": "code",
   "execution_count": 499,
   "metadata": {},
   "outputs": [],
   "source": [
    "import numpy as np\n",
    "import pandas as pd\n",
    "import matplotlib as plt\n",
    "import math\n",
    "from decimal import Decimal as Dec"
   ]
  },
  {
   "cell_type": "markdown",
   "metadata": {},
   "source": [
    "### R"
   ]
  },
  {
   "cell_type": "code",
   "execution_count": 500,
   "metadata": {},
   "outputs": [],
   "source": [
    "def getR(yList:np.ndarray, yRList:np.ndarray):\n",
    "    return np.subtract(yList, yRList)"
   ]
  },
  {
   "cell_type": "markdown",
   "metadata": {},
   "source": [
    "### Linear Regression"
   ]
  },
  {
   "cell_type": "code",
   "execution_count": 501,
   "metadata": {},
   "outputs": [],
   "source": [
    "# Linear Regression\n",
    "\n",
    "def getLinearRegression(xList:np.ndarray, yList:np.ndarray):\n",
    "    n:int = xList.size\n",
    "    if (n != yList.size):\n",
    "        print(\"Unaligned Lists!\")\n",
    "        return -1\n",
    "    \n",
    "    xList = np.array([Dec(str(x)) for x in xList], dtype=Dec)\n",
    "    yList = np.array([Dec(str(x)) for x in yList], dtype=Dec)\n",
    "    \n",
    "    mNum:Dec = ((n * np.multiply(xList, yList).sum()) - (np.multiply(xList.sum(), yList.sum())))\n",
    "    mDen:Dec = ((n * np.power(xList, 2).sum()) - (np.power(xList.sum(), 2)))\n",
    "    c:Dec = np.mean(yList) - (mNum * np.mean(xList)) / mDen\n",
    "\n",
    "    print(\"y = (\", mNum, \"/\", mDen, \")x -\", c.quantize(Dec(\"0.00001\")))\n",
    "    return (mNum, mDen, c)"
   ]
  },
  {
   "cell_type": "code",
   "execution_count": 502,
   "metadata": {},
   "outputs": [
    {
     "name": "stdout",
     "output_type": "stream",
     "text": [
      "y = ( 0.4378 / 4.7606 )x - 0.12249\n",
      "0.6742734109145905978238037222\n",
      "0.09196319791622904675881191446\n"
     ]
    }
   ],
   "source": [
    "a = np.array([0.7, 0.96, 1.13, 1.57, 1.92])\n",
    "b = np.array([0.19, 0.21, 0.23, 0.25, 0.31])\n",
    "# a = np.array([-1,1,2,4,6,7])\n",
    "# b = np.array([-1,2,3,3,5,8])\n",
    "mNum, mDen, c = getLinearRegression(a,b)\n",
    "print(mNum * Dec(6) / mDen + c)\n",
    "\n",
    "print(mNum/mDen)"
   ]
  },
  {
   "cell_type": "markdown",
   "metadata": {},
   "source": [
    "### Naive Gaussian Elimination (Linear Algebra)"
   ]
  },
  {
   "cell_type": "code",
   "execution_count": 503,
   "metadata": {},
   "outputs": [],
   "source": [
    "# Naive Gaussian Elimination (Linear Algebra)\n",
    "def alg(n, xMatrix, yMatrix):\n",
    "    # Forward Elimination\n",
    "    tempMatrix = np.concatenate((xMatrix, yMatrix), axis = 1)\n",
    "    for i in range(n):\n",
    "        for j in range(i+1, n):\n",
    "            temp = tempMatrix[j][i] / tempMatrix[i][i]\n",
    "            tempMatrix[j] = tempMatrix[j] - (np.multiply(tempMatrix[i], temp))\n",
    "     \n",
    "    xMatrix:np.ndarray = tempMatrix[:, :-1]\n",
    "    yMatrix:np.ndarray = tempMatrix[:, -1].reshape((n,1))\n",
    "    \n",
    "    # Backward Substitution\n",
    "    aList:np.ndarray = np.zeros((n,1), dtype=Dec)\n",
    "    for i in range(n):\n",
    "        value:Dec = Dec(\"0\")\n",
    "        for j in range(i+1):\n",
    "            if (i == j):\n",
    "                aList[n - i - 1] = ((yMatrix[n-i-1][0] - value) / xMatrix[n-i-1][n-j-1])\n",
    "                break\n",
    "            value += xMatrix[n-i-1][n-j-1] * aList[j]\n",
    "    print(aList)"
   ]
  },
  {
   "cell_type": "code",
   "execution_count": 504,
   "metadata": {},
   "outputs": [],
   "source": [
    "# xMatrix = np.array([[25,5,1], [64,8,1], [144,12,1]], dtype=float)\n",
    "# yMatrix = np.array([[106.8], [177.2], [279.2]], dtype=float)\n",
    "# alg(3, xMatrix, yMatrix)"
   ]
  },
  {
   "cell_type": "markdown",
   "metadata": {},
   "source": [
    "### Polynomial Regression"
   ]
  },
  {
   "cell_type": "code",
   "execution_count": 505,
   "metadata": {},
   "outputs": [],
   "source": [
    "# Polynomial Regression\n",
    "\n",
    "# Get the constants (a) of a polynomial\n",
    "def getConstants(order:int, xList:np.ndarray, yList:np.ndarray):\n",
    "    if (xList.size != yList.size):\n",
    "        print(f\"Unequal List Size! xList: {xList.size}, yList: {yList.size}\")\n",
    "        return np.array([])\n",
    "    \n",
    "    n:int = order + 1\n",
    "    temp:list = [Dec(xList.size)] # List of powered x with initial n (size of xList)\n",
    "    xMatrix:np.ndarray = np.zeros((n, n), dtype=Dec) # Create a zero 2D matrix\n",
    "    yMatrix:np.ndarray = np.zeros((n, 1), dtype=Dec) # Create a zero 1D matrix\n",
    "        \n",
    "    # Filling temp with powered x\n",
    "    for i in range(1, 2 * n):\n",
    "        temp.append(np.sum(np.power(xList,i)))\n",
    "\n",
    "    # Filling zero 2D matrix (xMatrix) with the powered x in temp\n",
    "    for i in range(n):\n",
    "        xMatrix[i] = temp[i : i + n]\n",
    "    \n",
    "    # Filling zero 1D matrix (yMatrix)\n",
    "    for i in range(n):\n",
    "        if (i == 0):\n",
    "            yMatrix[i][0] = np.sum(yList)\n",
    "        else:\n",
    "            yMatrix[i][0] = np.sum(np.multiply(yList, np.power(xList, i)))\n",
    "    \n",
    "#     print(xMatrix)\n",
    "#     print(yMatrix)\n",
    "    alg(3, xMatrix, yMatrix)\n",
    "\n",
    "# # Get the list of y, y values of a regression line\n",
    "# def getPolynomialRegression(x:float, order:int, xList:np.ndarray, yList:np.ndarray):\n",
    "#     if (xList.size != yList.size):\n",
    "#         print(f\"Unequal List Size! xList: {xList.size}, yList: {yList.size}\")\n",
    "#         return 0\n",
    "    \n",
    "#     constantList:np.ndarray = getConstants(order, xList, yList) # Getting the constants of a polynomial\n",
    "        \n",
    "#     # Returning the prediction at a point in the regression line\n",
    "#     return np.sum(np.multiply(np.power(np.full(constantList.size, x), np.arange(constantList.size)), constantList.transpose()))"
   ]
  },
  {
   "cell_type": "code",
   "execution_count": 506,
   "metadata": {},
   "outputs": [
    {
     "name": "stdout",
     "output_type": "stream",
     "text": [
      "[[Decimal('5.93504109589041095890410959')]\n",
      " [Decimal('0.008577397260273972602739726031')]\n",
      " [Decimal('-0.00001113320435654915448552593841')]]\n"
     ]
    }
   ],
   "source": [
    "xList:np.ndarray = np.array([80, 40, -40, -120, -200, -280], dtype = Decimal)\n",
    "yList:np.ndarray = np.array([6.47, 6.24, 5.72, 5.09, 4.30, 3.33], dtype = Decimal)\n",
    "    \n",
    "xList = np.array([Dec(str(x)) for x in xList])\n",
    "yList = np.array([Dec(str(y)) for y in yList])\n",
    "\n",
    "getConstants(2,xList, yList)"
   ]
  }
 ],
 "metadata": {
  "kernelspec": {
   "display_name": "Python 3",
   "language": "python",
   "name": "python3"
  },
  "language_info": {
   "codemirror_mode": {
    "name": "ipython",
    "version": 3
   },
   "file_extension": ".py",
   "mimetype": "text/x-python",
   "name": "python",
   "nbconvert_exporter": "python",
   "pygments_lexer": "ipython3",
   "version": "3.8.2"
  }
 },
 "nbformat": 4,
 "nbformat_minor": 4
}
