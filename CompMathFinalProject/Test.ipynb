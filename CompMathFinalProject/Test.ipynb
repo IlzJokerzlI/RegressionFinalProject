{
 "cells": [
  {
   "cell_type": "code",
   "execution_count": 1,
   "metadata": {},
   "outputs": [],
   "source": [
    "import numpy as np\n",
    "import pandas as pd\n",
    "import matplotlib as plt\n",
    "import math\n",
    "from decimal import Decimal as Dec"
   ]
  },
  {
   "cell_type": "markdown",
   "metadata": {},
   "source": [
    "### R"
   ]
  },
  {
   "cell_type": "code",
   "execution_count": 2,
   "metadata": {},
   "outputs": [],
   "source": [
    "def getR(yList:np.ndarray, yRList:np.ndarray):\n",
    "    return np.subtract(yList, yRList)"
   ]
  },
  {
   "cell_type": "markdown",
   "metadata": {},
   "source": [
    "### Linear Regression"
   ]
  },
  {
   "cell_type": "code",
   "execution_count": 3,
   "metadata": {},
   "outputs": [],
   "source": [
    "# Linear Regression\n",
    "\n",
    "def getLinearRegression(xList:np.ndarray, yList:np.ndarray):\n",
    "    n:int = xList.size\n",
    "    if (n != yList.size):\n",
    "        print(\"Unaligned Lists!\")\n",
    "        return -1\n",
    "    \n",
    "    xList = np.array([Dec(str(x)) for x in xList], dtype=Dec)\n",
    "    yList = np.array([Dec(str(x)) for x in yList], dtype=Dec)\n",
    "    \n",
    "    mNum:Dec = ((n * np.multiply(xList, yList).sum()) - (np.multiply(xList.sum(), yList.sum())))\n",
    "    mDen:Dec = ((n * np.power(xList, 2).sum()) - (np.power(xList.sum(), 2)))\n",
    "    c:Dec = np.mean(yList) - (mNum * np.mean(xList)) / mDen\n",
    "\n",
    "    print(\"y = (\", mNum, \"/\", mDen, \")x -\", c.quantize(Dec(\"0.00001\")))\n",
    "    return (mNum, mDen, c)"
   ]
  },
  {
   "cell_type": "code",
   "execution_count": 4,
   "metadata": {},
   "outputs": [
    {
     "name": "stdout",
     "output_type": "stream",
     "text": [
      "y = ( 0.4378 / 4.7606 )x - 0.12249\n",
      "0.6742734109145905978238037222\n",
      "0.09196319791622904675881191446\n",
      "0.1224942234172163172709322354\n"
     ]
    }
   ],
   "source": [
    "a = np.array([0.7, 0.96, 1.13, 1.57, 1.92])\n",
    "b = np.array([0.19, 0.21, 0.23, 0.25, 0.31])\n",
    "# a = np.array([-1,1,2,4,6,7])\n",
    "# b = np.array([-1,2,3,3,5,8])\n",
    "mNum, mDen, c = getLinearRegression(a,b)\n",
    "print(mNum * Dec(6) / mDen + c)\n",
    "\n",
    "print(mNum/mDen)\n",
    "print(c)"
   ]
  },
  {
   "cell_type": "markdown",
   "metadata": {},
   "source": [
    "### Naive Gaussian Elimination (Linear Algebra)"
   ]
  },
  {
   "cell_type": "code",
   "execution_count": 5,
   "metadata": {},
   "outputs": [],
   "source": [
    "def linAlg(self, xMatrix:np.ndarray, yMatrix:np.ndarray):\n",
    "        matrixSize:int = xMatrix[0].size # The size of matrix\n",
    "\n",
    "        # Forward Elimination\n",
    "        tempMatrix = np.concatenate((xMatrix, yMatrix), axis = 1) # Temporary matrix by concatenating x and y matrix\n",
    "        for i in range(matrixSize):\n",
    "            for j in range(i + 1, matrixSize):\n",
    "                temp = tempMatrix[j][i] / tempMatrix[i][i]\n",
    "                tempMatrix[j] = tempMatrix[j] - (np.multiply(tempMatrix[i], temp))\n",
    "        \n",
    "        # Seperate tempMatrix back into x and y matrix accordingly\n",
    "        xMatrix:np.ndarray = tempMatrix[:, :-1]\n",
    "        yMatrix:np.ndarray = tempMatrix[:, -1].reshape((matrixSize, 1))\n",
    "            \n",
    "        # Backward Substitution\n",
    "        constantList:np.ndarray = np.ones((matrixSize, 1), dtype=Dec) # List of constants\n",
    "        for i in range(matrixSize):\n",
    "            value:Dec = Dec(\"0\") # The value of total sum of rows in x matrix\n",
    "            for j in range(i+1):\n",
    "                if (i == j):\n",
    "                    constantList[matrixSize - j - 1][0] = (yMatrix[matrixSize - i - 1][0] - value) / xMatrix[matrixSize - i - 1][matrixSize - j - 1]\n",
    "                    break\n",
    "                    \n",
    "                value += xMatrix[matrixSize - i - 1][matrixSize - j - 1] * constantList[matrixSize - j - 1][0]\n",
    "        return constantList"
   ]
  },
  {
   "cell_type": "code",
   "execution_count": 6,
   "metadata": {},
   "outputs": [
    {
     "data": {
      "text/plain": [
       "array([[Decimal('0.2904761904761904761904761904')],\n",
       "       [Decimal('19.69047619047619047619047619')],\n",
       "       [Decimal('1.085714285714285714285714286')]], dtype=object)"
      ]
     },
     "execution_count": 6,
     "metadata": {},
     "output_type": "execute_result"
    }
   ],
   "source": [
    "xMatrix = np.array([[Dec(\"25\"),Dec(\"5\"),Dec(\"1\")], [Dec(\"64\"),Dec(\"8\"),Dec(\"1\")], [Dec(\"144\"),Dec(\"12\"),Dec(\"1\")]], dtype=Dec)\n",
    "yMatrix = np.array([[Dec(\"106.8\")], [Dec(\"177.2\")], [Dec(\"279.2\")]], dtype=Dec)\n",
    "linAlg(3, xMatrix, yMatrix)"
   ]
  },
  {
   "cell_type": "markdown",
   "metadata": {},
   "source": [
    "### Polynomial Regression"
   ]
  },
  {
   "cell_type": "code",
   "execution_count": 9,
   "metadata": {},
   "outputs": [],
   "source": [
    "# Polynomial Regression\n",
    "\n",
    "# Get the constants (a) of a polynomial\n",
    "def getConstants(order:int, xList:np.ndarray, yList:np.ndarray):\n",
    "    if (xList.size != yList.size):\n",
    "        print(f\"Unequal List Size! xList: {xList.size}, yList: {yList.size}\")\n",
    "        return np.array([])\n",
    "    \n",
    "    n:int = order + 1\n",
    "    temp:list = [Dec(xList.size)] # List of powered x with initial n (size of xList)\n",
    "    xMatrix:np.ndarray = np.zeros((n, n), dtype=Dec) # Create a zero 2D matrix\n",
    "    yMatrix:np.ndarray = np.zeros((n, 1), dtype=Dec) # Create a zero 1D matrix\n",
    "        \n",
    "    # Filling temp with powered x\n",
    "    for i in range(1, 2 * n):\n",
    "        temp.append(np.sum(np.power(xList,i)))\n",
    "\n",
    "    # Filling zero 2D matrix (xMatrix) with the powered x in temp\n",
    "    for i in range(n):\n",
    "        xMatrix[i] = temp[i : i + n]\n",
    "    \n",
    "    # Filling zero 1D matrix (yMatrix)\n",
    "    for i in range(n):\n",
    "        if (i == 0):\n",
    "            yMatrix[i][0] = np.sum(yList)\n",
    "        else:\n",
    "            yMatrix[i][0] = np.sum(np.multiply(yList, np.power(xList, i)))\n",
    "            \n",
    "    return linAlg(n, xMatrix, yMatrix)\n",
    "\n",
    "# # Get the list of y, y values of a regression line\n",
    "# def getPolynomialRegression(x:float, order:int, xList:np.ndarray, yList:np.ndarray):\n",
    "#     if (xList.size != yList.size):\n",
    "#         print(f\"Unequal List Size! xList: {xList.size}, yList: {yList.size}\")\n",
    "#         return 0\n",
    "    \n",
    "#     constantList:np.ndarray = getConstants(order, xList, yList) # Getting the constants of a polynomial\n",
    "        \n",
    "#     # Returning the prediction at a point in the regression line\n",
    "#     return np.sum(np.multiply(np.power(np.full(constantList.size, x), np.arange(constantList.size)), constantList.transpose()))\n",
    "\n",
    "# def getPolReg(order:int, xList:np.ndarray, yList:np.ndarray):\n",
    "#     constant = getConstants(order, xList, yList)\n",
    "#     for i in range(1, order + 1)\n",
    "    "
   ]
  },
  {
   "cell_type": "code",
   "execution_count": 10,
   "metadata": {},
   "outputs": [
    {
     "data": {
      "text/plain": [
       "array([[Decimal('6.012638005159071367153912295')],\n",
       "       [Decimal('0.006423961020349670392662654108')],\n",
       "       [Decimal('-0.00001113320435654915448552593841')]], dtype=object)"
      ]
     },
     "execution_count": 10,
     "metadata": {},
     "output_type": "execute_result"
    }
   ],
   "source": [
    "# xList:np.ndarray = np.array([80, 40, -40, -120, -200, -280], dtype = Dec)\n",
    "# yList:np.ndarray = np.array([6.47, 6.24, 5.72, 5.09, 4.30, 3.33], dtype = Dec)\n",
    "\n",
    "xList:np.ndarray = np.array([-280, -200, -120, -40, 40, 80], dtype = Dec)\n",
    "yList:np.ndarray = np.array([3.33, 4.30, 5.09, 5.72, 6.24, 6.47], dtype = Dec)\n",
    "\n",
    "\n",
    "\n",
    "xList = np.array([Dec(str(x)) for x in xList])\n",
    "yList = np.array([Dec(str(y)) for y in yList])\n",
    "\n",
    "getConstants(2,xList, yList)\n",
    "# getPolynomialRegression(-150, 2, xList, yList)"
   ]
  },
  {
   "cell_type": "code",
   "execution_count": 11,
   "metadata": {},
   "outputs": [
    {
     "name": "stdout",
     "output_type": "stream",
     "text": [
      "0\n",
      "1\n",
      "2\n"
     ]
    }
   ],
   "source": [
    "for i in range(0, 2+1):\n",
    "    print(i)"
   ]
  },
  {
   "cell_type": "code",
   "execution_count": 12,
   "metadata": {},
   "outputs": [
    {
     "data": {
      "text/plain": [
       "array([Decimal('6'), Decimal('17'), Decimal('34'), Decimal('57'),\n",
       "       Decimal('86'), Decimal('121')], dtype=object)"
      ]
     },
     "execution_count": 12,
     "metadata": {},
     "output_type": "execute_result"
    }
   ],
   "source": [
    "x = np.array([Dec(\"1\"), Dec(\"2\"), Dec(\"3\"), Dec(\"4\"), Dec(\"5\"), Dec(\"6\")])\n",
    "p = np.arange(0,2+1, dtype = Dec)\n",
    "c = np.array([[Dec(\"1\")],[Dec(\"2\")],[Dec(\"3\")]])\n",
    "\n",
    "tempMatrix:np.ndarray = np.multiply(np.ones((3,6), dtype = Dec), x).transpose()\n",
    "power:np.ndarray = np.arange(0, 3, dtype = Dec)\n",
    "np.sum(np.multiply(np.power(tempMatrix, power), c.transpose()), axis = 1)"
   ]
  },
  {
   "cell_type": "code",
   "execution_count": 13,
   "metadata": {},
   "outputs": [
    {
     "data": {
      "text/plain": [
       "Decimal('86')"
      ]
     },
     "execution_count": 13,
     "metadata": {},
     "output_type": "execute_result"
    }
   ],
   "source": [
    "x = 5\n",
    "p = np.arange(0,2+1, dtype = Dec)\n",
    "c = np.array([[Dec(\"1\")],[Dec(\"2\")],[Dec(\"3\")]])\n",
    "\n",
    "np.multiply(np.power(np.full(2+1 ,x), p), c.transpose()).sum()\n"
   ]
  },
  {
   "cell_type": "code",
   "execution_count": 14,
   "metadata": {},
   "outputs": [
    {
     "name": "stdout",
     "output_type": "stream",
     "text": [
      "0 1\n"
     ]
    }
   ],
   "source": [
    "for i in range(2):\n",
    "    for j in range(i+1, 2):\n",
    "        print(i,j)"
   ]
  },
  {
   "cell_type": "code",
   "execution_count": null,
   "metadata": {},
   "outputs": [],
   "source": []
  }
 ],
 "metadata": {
  "kernelspec": {
   "display_name": "Python 3",
   "language": "python",
   "name": "python3"
  },
  "language_info": {
   "codemirror_mode": {
    "name": "ipython",
    "version": 3
   },
   "file_extension": ".py",
   "mimetype": "text/x-python",
   "name": "python",
   "nbconvert_exporter": "python",
   "pygments_lexer": "ipython3",
   "version": "3.8.2"
  }
 },
 "nbformat": 4,
 "nbformat_minor": 4
}
