{
 "cells": [
  {
   "cell_type": "code",
   "execution_count": 1,
   "metadata": {},
   "outputs": [],
   "source": [
    "import numpy as np\n",
    "import pandas as pd\n",
    "import matplotlib as plt\n",
    "import math\n",
    "from decimal import Decimal"
   ]
  },
  {
   "cell_type": "code",
   "execution_count": 2,
   "metadata": {},
   "outputs": [],
   "source": [
    "def getR(yList:np.ndarray, yRList:np.ndarray):\n",
    "    return np.subtract(yList, yRList)"
   ]
  },
  {
   "cell_type": "code",
   "execution_count": 3,
   "metadata": {},
   "outputs": [],
   "source": [
    "# Linear Regression\n",
    "\n",
    "def getLinearRegression(xList:np.ndarray, yList:np.ndarray):\n",
    "    n:int = xList.size\n",
    "    if (n != yList.size):\n",
    "        print(\"Unaligned Lists!\")\n",
    "        return -1\n",
    "    \n",
    "    xList = np.array([Decimal(str(x)) for x in xList], dtype=Decimal)\n",
    "    yList = np.array([Decimal(str(x)) for x in yList], dtype=Decimal)\n",
    "    \n",
    "    mNum:Decimal = ((n * np.multiply(xList, yList).sum()) - (np.multiply(xList.sum(), yList.sum())))\n",
    "    mDen:Decimal = ((n * np.power(xList, 2).sum()) - (np.power(xList.sum(), 2)))\n",
    "    c:Decimal = np.mean(yList) - (mNum * np.mean(xList)) / mDen\n",
    "\n",
    "    print(\"y = (\", mNum, \"/\", mDen, \")x -\", c.quantize(Decimal(\"0.00001\")))\n",
    "    return (mNum, mDen, c)"
   ]
  },
  {
   "cell_type": "code",
   "execution_count": 59,
   "metadata": {},
   "outputs": [
    {
     "name": "stdout",
     "output_type": "stream",
     "text": [
      "y = ( 0.4378 / 4.7606 )x - 0.12249\n",
      "0.6742734109145905978238037222\n",
      "0.09196319791622904675881191446\n"
     ]
    }
   ],
   "source": [
    "a = np.array([0.7, 0.96, 1.13, 1.57, 1.92])\n",
    "b = np.array([0.19, 0.21, 0.23, 0.25, 0.31])\n",
    "# a = np.array([-1,1,2,4,6,7])\n",
    "# b = np.array([-1,2,3,3,5,8])\n",
    "mNum, mDen, c = getLinearRegression(a,b)\n",
    "print(mNum * Decimal(6) / mDen + c)\n",
    "\n",
    "print(mNum/mDen)"
   ]
  },
  {
   "cell_type": "code",
   "execution_count": 54,
   "metadata": {},
   "outputs": [
    {
     "name": "stdout",
     "output_type": "stream",
     "text": [
      "True\n"
     ]
    }
   ],
   "source": [
    "# Polynomial Regression\n",
    "\n",
    "# Get the constants (a) of a polynomial\n",
    "def getConstants(order:int, xList:np.ndarray, yList:np.ndarray):\n",
    "    if (xList.size != yList.size):\n",
    "        print(f\"Unequal List Size! xList: {xList.size}, yList: {yList.size}\")\n",
    "        return np.array([])\n",
    "    \n",
    "    n:int = order + 1\n",
    "    temp:list = [xList.size] # List of powered x with initial n (size of xList)\n",
    "    xMatrix:np.ndarray = np.zeros((n, n)) # Create a zero 2D matrix\n",
    "    yMatrix:np.ndarray = np.zeros((n, 1)) # Create a zero 1D matrix\n",
    "        \n",
    "    # Filling temp with powered x\n",
    "    for i in range(1, 2 * n):\n",
    "        temp.append(np.sum(np.power(xList,i)))\n",
    "\n",
    "    # Filling zero 2D matrix (xMatrix) with the powered x in temp\n",
    "    for i in range(n):\n",
    "        xMatrix[i] = temp[i : i + n]\n",
    "        \n",
    "    # Filling zero 1D matrix (yMatrix)\n",
    "    for i in range(n):\n",
    "        if (i == 0):\n",
    "            yMatrix[i][0] = np.sum(yList)\n",
    "        else:\n",
    "            yMatrix[i][0] = np.sum(np.multiply(yList, np.power(xList, i)))\n",
    "    \n",
    "    # Calculating the constants (a)\n",
    "    return np.dot(np.linalg.inv(xMatrix),yMatrix)\n",
    "\n",
    "\n",
    "# Get the list of y, y values of a regression line\n",
    "def getPolynomialRegression(x:float, order:int, xList:np.ndarray, yList:np.ndarray):\n",
    "    if (xList.size != yList.size):\n",
    "        print(f\"Unequal List Size! xList: {xList.size}, yList: {yList.size}\")\n",
    "        return 0\n",
    "    \n",
    "    constantList:np.ndarray = getConstants(order, xList, yList) # Getting the constants of a polynomial\n",
    "        \n",
    "    # Returning the prediction at a point in the regression line\n",
    "    return np.sum(np.multiply(np.power(np.full(constantList.size, x), np.arange(constantList.size)), constantList.transpose()))"
   ]
  },
  {
   "cell_type": "code",
   "execution_count": 60,
   "metadata": {},
   "outputs": [],
   "source": [
    "# Exponential Regression"
   ]
  }
 ],
 "metadata": {
  "kernelspec": {
   "display_name": "Python 3",
   "language": "python",
   "name": "python3"
  },
  "language_info": {
   "codemirror_mode": {
    "name": "ipython",
    "version": 3
   },
   "file_extension": ".py",
   "mimetype": "text/x-python",
   "name": "python",
   "nbconvert_exporter": "python",
   "pygments_lexer": "ipython3",
   "version": "3.8.2"
  }
 },
 "nbformat": 4,
 "nbformat_minor": 4
}
