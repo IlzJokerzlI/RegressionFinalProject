{
 "cells": [
  {
   "cell_type": "code",
   "execution_count": 1,
   "metadata": {},
   "outputs": [],
   "source": [
    "import numpy as np\n",
    "import pandas as pd\n",
    "import matplotlib.pyplot as plt\n",
    "import math\n",
    "from decimal import Decimal as Dec\n",
    "from matplotlib.ticker import (MultipleLocator, FormatStrFormatter,\n",
    "                               AutoMinorLocator, FixedLocator, FixedFormatter)"
   ]
  },
  {
   "cell_type": "markdown",
   "metadata": {},
   "source": [
    "### Standard Error"
   ]
  },
  {
   "cell_type": "code",
   "execution_count": 2,
   "metadata": {},
   "outputs": [],
   "source": [
    "def getStdErr(yList, yRegList):\n",
    "    return np.sqrt(np.power(np.subtract(yRegList, yList), 2).sum() / (yList.size - 2))"
   ]
  },
  {
   "cell_type": "markdown",
   "metadata": {},
   "source": [
    "### Linear Regression"
   ]
  },
  {
   "cell_type": "code",
   "execution_count": 3,
   "metadata": {},
   "outputs": [],
   "source": [
    "# Linear Regression\n",
    "\n",
    "def getLinearRegression(xList:np.ndarray, yList:np.ndarray):\n",
    "    n:int = xList.size\n",
    "    if (n != yList.size):\n",
    "        print(\"Unaligned Lists!\")\n",
    "        return -1\n",
    "    \n",
    "    xList = np.array([Dec(str(x)) for x in xList], dtype=Dec)\n",
    "    yList = np.array([Dec(str(x)) for x in yList], dtype=Dec)\n",
    "    \n",
    "    mNum:Dec = ((n * np.multiply(xList, yList).sum()) - (np.multiply(xList.sum(), yList.sum())))\n",
    "    mDen:Dec = ((n * np.power(xList, 2).sum()) - (np.power(xList.sum(), 2)))\n",
    "    c:Dec = np.mean(yList) - (mNum * np.mean(xList)) / mDen\n",
    "\n",
    "    print(\"y = (\", mNum, \"/\", mDen, \")x -\", c.quantize(Dec(\"0.00001\")))\n",
    "    return (mNum, mDen, c)"
   ]
  },
  {
   "cell_type": "code",
   "execution_count": 4,
   "metadata": {},
   "outputs": [
    {
     "name": "stdout",
     "output_type": "stream",
     "text": [
      "y = ( 0.4378 / 4.7606 )x - 0.12249\n",
      "0.6742734109145905978238037222\n",
      "0.09196319791622904675881191446\n",
      "0.1224942234172163172709322354\n"
     ]
    }
   ],
   "source": [
    "a = np.array([0.7, 0.96, 1.13, 1.57, 1.92])\n",
    "b = np.array([0.19, 0.21, 0.23, 0.25, 0.31])\n",
    "# a = np.array([-1,1,2,4,6,7])\n",
    "# b = np.array([-1,2,3,3,5,8])\n",
    "mNum, mDen, c = getLinearRegression(a,b)\n",
    "print(mNum * Dec(6) / mDen + c)\n",
    "\n",
    "print(mNum/mDen)\n",
    "print(c)"
   ]
  },
  {
   "cell_type": "markdown",
   "metadata": {},
   "source": [
    "### Naive Gaussian Elimination (Linear Algebra)"
   ]
  },
  {
   "cell_type": "code",
   "execution_count": 5,
   "metadata": {},
   "outputs": [],
   "source": [
    "def linAlg(self, xMatrix:np.ndarray, yMatrix:np.ndarray):\n",
    "        matrixSize:int = xMatrix[0].size # The size of matrix\n",
    "\n",
    "        # Forward Elimination\n",
    "        tempMatrix = np.concatenate((xMatrix, yMatrix), axis = 1) # Temporary matrix by concatenating x and y matrix\n",
    "        for i in range(matrixSize):\n",
    "            for j in range(i + 1, matrixSize):\n",
    "                temp = tempMatrix[j][i] / tempMatrix[i][i]\n",
    "                tempMatrix[j] = tempMatrix[j] - (np.multiply(tempMatrix[i], temp))\n",
    "        \n",
    "        # Seperate tempMatrix back into x and y matrix accordingly\n",
    "        xMatrix:np.ndarray = tempMatrix[:, :-1]\n",
    "        yMatrix:np.ndarray = tempMatrix[:, -1].reshape((matrixSize, 1))\n",
    "            \n",
    "        # Backward Substitution\n",
    "        constantList:np.ndarray = np.ones((matrixSize, 1), dtype=Dec) # List of constants\n",
    "        for i in range(matrixSize):\n",
    "            value:Dec = Dec(\"0\") # The value of total sum of rows in x matrix\n",
    "            for j in range(i+1):\n",
    "                if (i == j):\n",
    "                    constantList[matrixSize - j - 1][0] = (yMatrix[matrixSize - i - 1][0] - value) / xMatrix[matrixSize - i - 1][matrixSize - j - 1]\n",
    "                    break\n",
    "                    \n",
    "                value += xMatrix[matrixSize - i - 1][matrixSize - j - 1] * constantList[matrixSize - j - 1][0]\n",
    "        return constantList"
   ]
  },
  {
   "cell_type": "code",
   "execution_count": 6,
   "metadata": {},
   "outputs": [
    {
     "data": {
      "text/plain": [
       "array([[Decimal('0.2904761904761904761904761904')],\n",
       "       [Decimal('19.69047619047619047619047619')],\n",
       "       [Decimal('1.085714285714285714285714286')]], dtype=object)"
      ]
     },
     "execution_count": 6,
     "metadata": {},
     "output_type": "execute_result"
    }
   ],
   "source": [
    "xMatrix = np.array([[Dec(\"25\"),Dec(\"5\"),Dec(\"1\")], [Dec(\"64\"),Dec(\"8\"),Dec(\"1\")], [Dec(\"144\"),Dec(\"12\"),Dec(\"1\")]], dtype=Dec)\n",
    "yMatrix = np.array([[Dec(\"106.8\")], [Dec(\"177.2\")], [Dec(\"279.2\")]], dtype=Dec)\n",
    "linAlg(3, xMatrix, yMatrix)"
   ]
  },
  {
   "cell_type": "markdown",
   "metadata": {},
   "source": [
    "### Polynomial Regression"
   ]
  },
  {
   "cell_type": "code",
   "execution_count": 7,
   "metadata": {},
   "outputs": [],
   "source": [
    "# Polynomial Regression\n",
    "\n",
    "# Get the constants (a) of a polynomial\n",
    "def getConstants(order:int, xList:np.ndarray, yList:np.ndarray):\n",
    "    if (xList.size != yList.size):\n",
    "        print(f\"Unequal List Size! xList: {xList.size}, yList: {yList.size}\")\n",
    "        return np.array([])\n",
    "    \n",
    "    n:int = order + 1\n",
    "    temp:list = [Dec(xList.size)] # List of powered x with initial n (size of xList)\n",
    "    xMatrix:np.ndarray = np.zeros((n, n), dtype=Dec) # Create a zero 2D matrix\n",
    "    yMatrix:np.ndarray = np.zeros((n, 1), dtype=Dec) # Create a zero 1D matrix\n",
    "        \n",
    "    # Filling temp with powered x\n",
    "    for i in range(1, 2 * n):\n",
    "        temp.append(np.sum(np.power(xList,i)))\n",
    "\n",
    "    # Filling zero 2D matrix (xMatrix) with the powered x in temp\n",
    "    for i in range(n):\n",
    "        xMatrix[i] = temp[i : i + n]\n",
    "    \n",
    "    # Filling zero 1D matrix (yMatrix)\n",
    "    for i in range(n):\n",
    "        if (i == 0):\n",
    "            yMatrix[i][0] = np.sum(yList)\n",
    "        else:\n",
    "            yMatrix[i][0] = np.sum(np.multiply(yList, np.power(xList, i)))\n",
    "            \n",
    "    return linAlg(n, xMatrix, yMatrix)\n",
    "\n",
    "# Calculates y axes in polynomial regression line of given x axes\n",
    "def calcReg(xList:np.ndarray, constant:np.ndarray, order:int):\n",
    "    tempMatrix:np.ndarray = np.multiply(np.ones((order + 1, xList.size), dtype = Dec), xList).transpose() # Create temporary matrix for list of x\n",
    "    power:np.ndarray = np.arange(0, order + 1, dtype = Dec) # The power of the x\n",
    "    tempMatrix[:,0][tempMatrix[:,0] == 0] = Dec(1)\n",
    "    \n",
    "    print(tempMatrix)\n",
    "    return np.sum(np.multiply(np.power(tempMatrix, power), constant.transpose()), axis = 1)"
   ]
  },
  {
   "cell_type": "code",
   "execution_count": 8,
   "metadata": {},
   "outputs": [
    {
     "name": "stdout",
     "output_type": "stream",
     "text": [
      "[[Decimal('1') Decimal('0') Decimal('0')]\n",
      " [Decimal('1') Decimal('1') Decimal('1')]\n",
      " [Decimal('3') Decimal('3') Decimal('3')]\n",
      " [Decimal('5') Decimal('5') Decimal('5')]\n",
      " [Decimal('7') Decimal('7') Decimal('7')]\n",
      " [Decimal('9') Decimal('9') Decimal('9')]]\n"
     ]
    },
    {
     "data": {
      "text/plain": [
       "array([Decimal('0.9969538549727715677844654638'),\n",
       "       Decimal('0.8936103181427343078245915738'),\n",
       "       Decimal('0.7111317569504155918601318423'),\n",
       "       Decimal('0.5609312123817712811693895090'),\n",
       "       Decimal('0.4430086844368013757523645738'),\n",
       "       Decimal('0.3573641731155058756090570367')], dtype=object)"
      ]
     },
     "execution_count": 8,
     "metadata": {},
     "output_type": "execute_result"
    }
   ],
   "source": [
    "# xList:np.ndarray = np.array([80, 40, -40, -120, -200, -280], dtype = Dec)\n",
    "# yList:np.ndarray = np.array([6.47, 6.24, 5.72, 5.09, 4.30, 3.33], dtype = Dec)\n",
    "\n",
    "# xList:np.ndarray = np.array([-280, -200, -120, -40, 40, 80], dtype = Dec)\n",
    "# yList:np.ndarray = np.array([3.33, 4.30, 5.09, 5.72, 6.24, 6.47], dtype = Dec)\n",
    "\n",
    "xList:np.ndarray = np.array([0,1,3,5,7,9])\n",
    "yList:np.ndarray = np.array([1,0.891,0.708,0.562,0.447,0.355])\n",
    "\n",
    "xList = np.array([Dec(str(x)) for x in xList])\n",
    "yList = np.array([Dec(str(y)) for y in yList])\n",
    "\n",
    "c = getConstants(2,xList, yList)\n",
    "calcReg(xList, c, 2)"
   ]
  },
  {
   "cell_type": "code",
   "execution_count": 9,
   "metadata": {},
   "outputs": [
    {
     "data": {
      "text/plain": [
       "array([Decimal('6'), Decimal('17'), Decimal('34'), Decimal('57'),\n",
       "       Decimal('86'), Decimal('121')], dtype=object)"
      ]
     },
     "execution_count": 9,
     "metadata": {},
     "output_type": "execute_result"
    }
   ],
   "source": [
    "x = np.array([Dec(\"1\"), Dec(\"2\"), Dec(\"3\"), Dec(\"4\"), Dec(\"5\"), Dec(\"6\")])\n",
    "p = np.arange(0,2+1, dtype = Dec)\n",
    "c = np.array([[Dec(\"1\")],[Dec(\"2\")],[Dec(\"3\")]])\n",
    "\n",
    "tempMatrix:np.ndarray = np.multiply(np.ones((3,6), dtype = Dec), x).transpose()\n",
    "power:np.ndarray = np.arange(0, 3, dtype = Dec)\n",
    "np.sum(np.multiply(np.power(tempMatrix, power), c.transpose()), axis = 1)"
   ]
  },
  {
   "cell_type": "code",
   "execution_count": 10,
   "metadata": {},
   "outputs": [
    {
     "data": {
      "text/plain": [
       "Decimal('86')"
      ]
     },
     "execution_count": 10,
     "metadata": {},
     "output_type": "execute_result"
    }
   ],
   "source": [
    "x = 5\n",
    "p = np.arange(0,2+1, dtype = Dec)\n",
    "c = np.array([[Dec(\"1\")],[Dec(\"2\")],[Dec(\"3\")]])\n",
    "\n",
    "np.multiply(np.power(np.full(2+1 ,x), p), c.transpose()).sum()\n"
   ]
  },
  {
   "cell_type": "markdown",
   "metadata": {},
   "source": [
    "### Exponential Regression"
   ]
  },
  {
   "cell_type": "code",
   "execution_count": 11,
   "metadata": {},
   "outputs": [
    {
     "data": {
      "text/plain": [
       "array([[Decimal('0.9997385360041293207005597722')],\n",
       "       [Decimal('-0.1150496260264894737131486029')]], dtype=object)"
      ]
     },
     "execution_count": 11,
     "metadata": {},
     "output_type": "execute_result"
    }
   ],
   "source": [
    "x = np.array([Dec(\"0\"), Dec(\"1\"), Dec(\"3\"), Dec(\"5\"), Dec(\"7\"), Dec(\"9\")])\n",
    "y = np.array([Dec(\"1\"), Dec(\"0.891\"), Dec(\"0.708\"), Dec(\"0.562\"), Dec(\"0.447\"), Dec(\"0.355\")])\n",
    "f = lambda x : x.ln()\n",
    "vf = np.vectorize(f)\n",
    "\n",
    "z = vf(y)\n",
    "c = getConstants(1, x, z)\n",
    "c[0][0] = c[0][0].exp()\n",
    "c"
   ]
  },
  {
   "cell_type": "code",
   "execution_count": 58,
   "metadata": {},
   "outputs": [],
   "source": [
    "a = np.array([Dec('0.9593698630136986301369863015'),\n",
    " Dec('0.8876410958904109589041095891'),\n",
    " Dec('0.7441835616438356164383561644'),\n",
    " Dec('0.6007260273972602739726027397'),\n",
    " Dec('0.4572684931506849315068493149'),\n",
    " Dec('0.3138109589041095890410958902')])\n",
    "\n",
    "b = np.array([Dec('0.9969538549727715677844654638'),\n",
    " Dec('0.8936103181427343078245915738'),\n",
    " Dec('0.7111317569504155918601318423'),\n",
    " Dec('0.5609312123817712811693895090'),\n",
    " Dec('0.4430086844368013757523645738'),\n",
    " Dec('0.3573641731155058756090570367')])\n",
    "\n",
    "c = np.array([Dec('0.9997385360041293207005597722'),\n",
    " Dec('0.8910888614563391834118650100'),\n",
    " Dec('0.7079297762728265956239706350'),\n",
    " Dec('0.5624181715329969413621842226'),\n",
    " Dec('0.4468157863564935588193482256'),\n",
    " Dec('0.3549749226508742148544528311')])\n",
    "\n",
    "x = np.array([Dec('0'), Dec('1'), Dec('3'), Dec('5'), Dec('7'),\n",
    " Dec('9')])\n",
    "\n",
    "y = np.array([Dec('1.0'), Dec('0.891'), Dec('0.708'), Dec('0.562'),\n",
    " Dec('0.447'), Dec('0.355')])\n",
    "\n",
    "x = x.astype(float)\n",
    "y = y.astype(float)\n",
    "a = a.astype(float)\n",
    "b = b.astype(float)\n",
    "c = c.astype(float)\n",
    "print(getStdErr(y, a))\n",
    "print(getStdErr(y, b))\n",
    "print(getStdErr(y, c))"
   ]
  },
  {
   "cell_type": "code",
   "execution_count": 14,
   "metadata": {},
   "outputs": [
    {
     "data": {
      "text/plain": [
       "<matplotlib.legend.Legend at 0x7fe7a51f8520>"
      ]
     },
     "execution_count": 14,
     "metadata": {},
     "output_type": "execute_result"
    },
    {
     "data": {
      "image/png": "[encoded data removed]",
      "text/plain": [
       "<Figure size 1440x1080 with 1 Axes>"
      ]
     },
     "metadata": {
      "needs_background": "light"
     },
     "output_type": "display_data"
    }
   ],
   "source": [
    "df = pd.DataFrame({\"x\": x, \"y\": y,\"linear\": a, \"polynomial\": b, \"exponential\": c})\n",
    "fig,ax = plt.subplots(figsize = (w,h))\n",
    "\n",
    "# ax.plot(df[\"x\"], df[\"linear\"],\n",
    "#         marker = \"x\",\n",
    "#         markersize = 10,\n",
    "#         label = \"linear\")\n",
    "\n",
    "\n",
    "# ax.plot(df[\"x\"], df[\"polynomial\"],\n",
    "#         marker = \"x\",\n",
    "#         markersize = 10,\n",
    "#         label = \"polynomial\")\n",
    "\n",
    "\n",
    "# ax.plot(df[\"x\"], df[\"exponential\"],\n",
    "#         marker = \"x\",\n",
    "#         markersize = 10,\n",
    "#         label = \"exponential\")\n",
    "\n",
    "for col in df.columns[2:]:\n",
    "    ax.plot(df[\"x\"], df[col],\n",
    "            marker = \"x\",\n",
    "            markersize = 10,\n",
    "            label = col)\n",
    "    \n",
    "ax.scatter(df[\"x\"], df[\"y\"],\n",
    "           marker = \"o\",\n",
    "           s = 30,\n",
    "           zorder = 100,\n",
    "           c = \"red\",\n",
    "           alpha = 0.8,\n",
    "           label = \"Original Y\");\n",
    "\n",
    "ax.grid(which = \"both\")\n",
    "ax.xaxis.set_major_locator(FixedLocator(df[\"x\"]))\n",
    "ax.yaxis.set_major_locator(FixedLocator(df[\"y\"]))\n",
    "ax.xaxis.set_minor_locator(AutoMinorLocator(4))\n",
    "ax.yaxis.set_minor_locator(AutoMinorLocator(10))\n",
    "\n",
    "ax.legend(title = \"Legend\",\n",
    "          fontsize = \"large\")"
   ]
  },
  {
   "cell_type": "code",
   "execution_count": 127,
   "metadata": {},
   "outputs": [
    {
     "data": {
      "text/plain": [
       "array([[1., 2.],\n",
       "       [3., 4.]])"
      ]
     },
     "execution_count": 127,
     "metadata": {},
     "output_type": "execute_result"
    }
   ],
   "source": [
    "a = np.array([[1,2],[3,4]])\n",
    "a.astype(float)"
   ]
  },
  {
   "cell_type": "code",
   "execution_count": null,
   "metadata": {},
   "outputs": [],
   "source": []
  }
 ],
 "metadata": {
  "kernelspec": {
   "display_name": "Python 3",
   "language": "python",
   "name": "python3"
  },
  "language_info": {
   "codemirror_mode": {
    "name": "ipython",
    "version": 3
   },
   "file_extension": ".py",
   "mimetype": "text/x-python",
   "name": "python",
   "nbconvert_exporter": "python",
   "pygments_lexer": "ipython3",
   "version": "3.8.2"
  }
 },
 "nbformat": 4,
 "nbformat_minor": 4
}
